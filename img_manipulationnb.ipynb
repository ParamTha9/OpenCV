{
 "cells": [
  {
   "cell_type": "markdown",
   "metadata": {},
   "source": [
    "IMAGE MANIPULATION: FOR FRAMES IN VIDEOS"
   ]
  },
  {
   "cell_type": "code",
   "execution_count": 1,
   "metadata": {},
   "outputs": [],
   "source": [
    "import cv2\n",
    "import random"
   ]
  },
  {
   "cell_type": "code",
   "execution_count": 2,
   "metadata": {},
   "outputs": [],
   "source": [
    "img = cv2.imread(r'C:\\Users\\hites\\Desktop\\robo\\opencv_basics\\assets\\Ball.png', -1)"
   ]
  },
  {
   "cell_type": "markdown",
   "metadata": {},
   "source": [
    "Image as numpy array:"
   ]
  },
  {
   "cell_type": "code",
   "execution_count": 3,
   "metadata": {},
   "outputs": [
    {
     "name": "stdout",
     "output_type": "stream",
     "text": [
      "[[[216 217 212]\n",
      "  [216 217 212]\n",
      "  [216 217 212]\n",
      "  ...\n",
      "  [167 188 214]\n",
      "  [167 188 214]\n",
      "  [167 188 214]]\n",
      "\n",
      " [[216 217 212]\n",
      "  [216 217 212]\n",
      "  [216 217 212]\n",
      "  ...\n",
      "  [167 188 214]\n",
      "  [167 188 214]\n",
      "  [167 188 214]]\n",
      "\n",
      " [[216 217 212]\n",
      "  [216 217 212]\n",
      "  [216 217 212]\n",
      "  ...\n",
      "  [167 188 214]\n",
      "  [167 188 214]\n",
      "  [167 188 214]]\n",
      "\n",
      " ...\n",
      "\n",
      " [[182 195 198]\n",
      "  [182 195 198]\n",
      "  [182 195 198]\n",
      "  ...\n",
      "  [121 136 147]\n",
      "  [120 135 146]\n",
      "  [120 135 146]]\n",
      "\n",
      " [[180 193 196]\n",
      "  [180 193 196]\n",
      "  [180 193 196]\n",
      "  ...\n",
      "  [126 141 152]\n",
      "  [125 140 151]\n",
      "  [125 140 151]]\n",
      "\n",
      " [[180 193 196]\n",
      "  [180 193 196]\n",
      "  [179 192 195]\n",
      "  ...\n",
      "  [127 142 153]\n",
      "  [126 141 152]\n",
      "  [126 141 152]]]\n"
     ]
    }
   ],
   "source": [
    "print(img)"
   ]
  },
  {
   "cell_type": "code",
   "execution_count": 4,
   "metadata": {},
   "outputs": [
    {
     "name": "stdout",
     "output_type": "stream",
     "text": [
      "<class 'numpy.ndarray'>\n"
     ]
    }
   ],
   "source": [
    "print(type(img))"
   ]
  },
  {
   "cell_type": "code",
   "execution_count": 5,
   "metadata": {},
   "outputs": [
    {
     "name": "stdout",
     "output_type": "stream",
     "text": [
      "(1080, 1300, 3)\n"
     ]
    }
   ],
   "source": [
    "print(img.shape)#height, width, channels(BGR in case of opencv)"
   ]
  },
  {
   "cell_type": "markdown",
   "metadata": {},
   "source": [
    "Extracting nparray img : slicing, spliting:"
   ]
  },
  {
   "cell_type": "code",
   "execution_count": null,
   "metadata": {},
   "outputs": [],
   "source": [
    "print(img[0][700:800])#range of pixels in img row of pixels"
   ]
  },
  {
   "cell_type": "markdown",
   "metadata": {},
   "source": [
    "Manipulating pixels in img row of pixels:"
   ]
  },
  {
   "cell_type": "code",
   "execution_count": 7,
   "metadata": {},
   "outputs": [],
   "source": [
    "# this will colour 1st 100 rows of image pixels with random colours:\n",
    "for i in range(100):\n",
    "    for j in range(img.shape[1]):#1st row of image\n",
    "        img[i][j] = [random.randint(0, 255), random.randint(0, 255), random.randint(0, 255)]\n",
    "\n",
    "cv2.imshow('Image', img)\n",
    "cv2.waitKey(0)\n",
    "cv2.destroyAllWindows()"
   ]
  },
  {
   "cell_type": "code",
   "execution_count": 9,
   "metadata": {},
   "outputs": [],
   "source": [
    "#copy paste objects in an img:\n",
    "ball = img[550:800, 100:440]\n",
    "img[50:300, 900:1240] = ball\n",
    "\n",
    "cv2.imshow('Image', img)\n",
    "cv2.waitKey(0)\n",
    "cv2.destroyAllWindows()"
   ]
  }
 ],
 "metadata": {
  "kernelspec": {
   "display_name": "Python 3",
   "language": "python",
   "name": "python3"
  },
  "language_info": {
   "codemirror_mode": {
    "name": "ipython",
    "version": 3
   },
   "file_extension": ".py",
   "mimetype": "text/x-python",
   "name": "python",
   "nbconvert_exporter": "python",
   "pygments_lexer": "ipython3",
   "version": "3.12.0"
  }
 },
 "nbformat": 4,
 "nbformat_minor": 2
}
